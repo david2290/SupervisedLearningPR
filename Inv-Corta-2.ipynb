{
 "cells": [
  {
   "cell_type": "markdown",
   "metadata": {},
   "source": [
    "# Investigación Corta #2 - Aprendizaje Supervisado\n",
    "\n",
    "\n",
    "### Escoger 6 métodos de aprendizaje supervisado, de forma tal que cumplan el siguiente esquema:\n",
    "\n",
    "* Cuatro métodos pueden ser de los que se analizaron en clase.\n",
    "* Dos metodos deben ser diferentes de los que se analizaron en clase.\n",
    "* Uno de los 2 metodos anteriores, debe ser de tipo “ensamble”.\n",
    "\n",
    "\n",
    "Dataset: https://www.cs.toronto.edu/~delve/data/boston/bostonDetail.html \n",
    "\n",
    "\n",
    "http://archive.ics.uci.edu/ml/index.php\n",
    "http://archive.ics.uci.edu/ml/datasets/Forest+Fires\n",
    "http://archive.ics.uci.edu/ml/datasets/Energy+efficiency\n",
    "\n",
    "\n"
   ]
  },
  {
   "cell_type": "markdown",
   "metadata": {},
   "source": [
    "# Cuatro métodos pueden ser de los que se analizaron en clase.\n",
    "\n",
    "\n",
    "### 1. Linear Regresion \n",
    "### 2. kNN (k Nearest Neighbors) \n",
    "### 3. Naive Bayes\n",
    "### 4. Decision Trees\n",
    "\n",
    "\n"
   ]
  },
  {
   "cell_type": "code",
   "execution_count": 315,
   "metadata": {},
   "outputs": [],
   "source": [
    "X = New_Data.drop(columns=['Heat_Load', 'Cool_Load'])\n",
    "#Y = New_Data.drop(columns=['Rel_Comp', 'Surf_Ar', 'Wall_Ar', 'Roof_Ar', 'Over_Hei', 'Orient', 'Glaz_Ar', 'Glaz_Ar_D', 'Heat_Load'])\n",
    "Y = New_Data['Heat_Load'].values"
   ]
  },
  {
   "cell_type": "code",
   "execution_count": 299,
   "metadata": {},
   "outputs": [],
   "source": [
    "name = ['Rel_Comp', 'Surf_Ar', 'Wall_Ar', 'Roof_Ar', 'Over_Hei', 'Orient', 'Glaz_Ar', 'Glaz_Ar_D', 'Heat_Load', 'Cool_Load', 'Unnamed1', 'Unnamed2']\n",
    "data_read= pd.read_csv('DatasetCSV.csv', names=name)\n",
    "\n",
    "df = pd.DataFrame(data_read, columns=['Rel_Comp', 'Surf_Ar', 'Wall_Ar', 'Roof_Ar', 'Over_Hei', 'Orient', 'Glaz_Ar', 'Glaz_Ar_D', 'Heat_Load', 'Cool_Load', 'Unnamed1', 'Unnamed2'])\n",
    "column_drop = df.drop(['Unnamed1','Unnamed2'], axis=1)\n",
    "\n",
    "row_drop = column_drop.drop(0)\n",
    "\n",
    "New_Data = row_drop\n",
    "#New_Data.head(3)\n"
   ]
  },
  {
   "cell_type": "markdown",
   "metadata": {},
   "source": [
    "## 1. Linear Regresion"
   ]
  },
  {
   "cell_type": "code",
   "execution_count": 310,
   "metadata": {},
   "outputs": [
    {
     "name": "stdout",
     "output_type": "stream",
     "text": [
      "Training set score: 0.92\n",
      "Test set score: 0.92\n"
     ]
    }
   ],
   "source": [
    "X_train, X_test, y_train, y_test = train_test_split(X, Y, test_size=0.10, random_state=13)\n",
    "\n",
    "lr = LinearRegression().fit(X_train, y_train)\n",
    "\n",
    "print(\"Training set score: {:.2f}\".format(lr.score(X_train, y_train)))\n",
    "print(\"Test set score: {:.2f}\".format(lr.score(X_test, y_test)))\n"
   ]
  },
  {
   "cell_type": "markdown",
   "metadata": {},
   "source": [
    "## 2. kNN (k Nearest Neighbors)"
   ]
  },
  {
   "cell_type": "markdown",
   "metadata": {},
   "source": [
    "https://towardsdatascience.com/building-a-k-nearest-neighbors-k-nn-model-with-scikit-learn-51209555453a"
   ]
  },
  {
   "cell_type": "code",
   "execution_count": 232,
   "metadata": {},
   "outputs": [],
   "source": []
  },
  {
   "cell_type": "code",
   "execution_count": 289,
   "metadata": {},
   "outputs": [],
   "source": [
    "X = New_Data.drop(columns=['Heat_Load', 'Cool_Load'])\n",
    "#Y = New_Data.drop(columns=['Rel_Comp', 'Surf_Ar', 'Wall_Ar', 'Roof_Ar', 'Over_Hei', 'Orient', 'Glaz_Ar', 'Glaz_Ar_D', 'Heat_Load'])\n",
    "Y = New_Data['Heat_Load'].values"
   ]
  },
  {
   "cell_type": "markdown",
   "metadata": {},
   "source": [
    "test_size=0.33 Significa que el 20% sera usado para testing y 80% para training"
   ]
  },
  {
   "cell_type": "code",
   "execution_count": 294,
   "metadata": {},
   "outputs": [],
   "source": [
    "X_train, X_test, y_train, y_test = train_test_split(X, Y, test_size=0.6, random_state=50)"
   ]
  },
  {
   "cell_type": "code",
   "execution_count": 304,
   "metadata": {},
   "outputs": [],
   "source": [
    "training_accuracy = []\n",
    "test_accuracy1= []"
   ]
  },
  {
   "cell_type": "code",
   "execution_count": 305,
   "metadata": {},
   "outputs": [
    {
     "data": {
      "text/plain": [
       "(768, 10)"
      ]
     },
     "execution_count": 305,
     "metadata": {},
     "output_type": "execute_result"
    }
   ],
   "source": [
    "New_Data.shape"
   ]
  },
  {
   "cell_type": "code",
   "execution_count": 306,
   "metadata": {},
   "outputs": [
    {
     "name": "stdout",
     "output_type": "stream",
     "text": [
      "10\n"
     ]
    },
    {
     "data": {
      "image/png": "[encoded data removed]",
      "text/plain": [
       "<Figure size 432x288 with 1 Axes>"
      ]
     },
     "metadata": {
      "needs_background": "light"
     },
     "output_type": "display_data"
    }
   ],
   "source": [
    "from sklearn.multioutput import MultiOutputClassifier\n",
    "from sklearn.neighbors import KNeighborsClassifier\n",
    "\n",
    "#mylist = range(1, 11)\n",
    "neighbors_settings = range(1, 11)\n",
    "for n_neighbors in neighbors_settings:\n",
    "    # se construye el modelo de clasificacion\n",
    "    clf = KNeighborsClassifier(n_neighbors=n_neighbors)\n",
    "    clf.fit(X_train,y_train)\n",
    "    # se almacena el \"training set accuracy\"\n",
    "    #clf.score(X_train, y_train)\n",
    "    training_accuracy.append(clf.score(X_train, y_train)) #\n",
    "    # se almacena la \"generalization accuracy\"\n",
    "    test_accuracy1.append(clf.score(X_test, y_test))\n",
    "plt.plot(neighbors_settings, training_accuracy, label=\"training accuracy\")\n",
    "plt.plot(neighbors_settings, test_accuracy1, label=\"test accuracy\")\n",
    "plt.ylabel(\"Accuracy\")\n",
    "plt.xlabel(\"n_neighbors\")\n",
    "plt.legend()\n",
    "print(n_neighbors)\n",
    "\n",
    "##clf = KNeighborsClassifier(n_neighbors=42)\n",
    "#classifier = MultiOutputClassifier(clf, n_jobs=-1)######\n",
    "\n",
    "##clf.fit(X_train,y_train)\n",
    "# se almacena el \"training set accuracy\"\n",
    "#clf.predict(X_test)[0:5]\n",
    "##clf.score(X_train, y_train)\n"
   ]
  },
  {
   "cell_type": "markdown",
   "metadata": {},
   "source": [
    "## 3. Naive Bayes"
   ]
  },
  {
   "cell_type": "code",
   "execution_count": 311,
   "metadata": {},
   "outputs": [],
   "source": [
    "from sklearn.datasets import load_breast_cancer\n",
    "from sklearn.model_selection import train_test_split\n",
    "from sklearn.naive_bayes import GaussianNB"
   ]
  },
  {
   "cell_type": "code",
   "execution_count": 236,
   "metadata": {},
   "outputs": [],
   "source": [
    "X_train, X_test, y_train, y_test = train_test_split(X, Y, test_size=0.20, random_state=13)"
   ]
  },
  {
   "cell_type": "code",
   "execution_count": 312,
   "metadata": {},
   "outputs": [
    {
     "name": "stdout",
     "output_type": "stream",
     "text": [
      "Training set score: 0.806\n",
      "Test set score: 0.039\n"
     ]
    }
   ],
   "source": [
    "nbg = GaussianNB().fit(X_train, y_train)\n",
    "print(\"Training set score: {:.3f}\".format(nbg.score(X_train, y_train)))\n",
    "print(\"Test set score: {:.3f}\".format(nbg.score(X_test, y_test)))"
   ]
  },
  {
   "cell_type": "code",
   "execution_count": null,
   "metadata": {},
   "outputs": [],
   "source": []
  },
  {
   "cell_type": "markdown",
   "metadata": {},
   "source": [
    "## 4. Decision Trees"
   ]
  },
  {
   "cell_type": "code",
   "execution_count": 313,
   "metadata": {},
   "outputs": [],
   "source": [
    "from sklearn.tree import DecisionTreeClassifier\n",
    "from sklearn.model_selection import train_test_split\n",
    "from sklearn.datasets import load_breast_cancer"
   ]
  },
  {
   "cell_type": "code",
   "execution_count": 239,
   "metadata": {},
   "outputs": [],
   "source": [
    "X_train, X_test, y_train, y_test = train_test_split(X, Y, test_size=0.20, random_state=13)"
   ]
  },
  {
   "cell_type": "code",
   "execution_count": 314,
   "metadata": {},
   "outputs": [
    {
     "data": {
      "text/plain": [
       "DecisionTreeClassifier(class_weight=None, criterion='gini', max_depth=None,\n",
       "                       max_features=None, max_leaf_nodes=None,\n",
       "                       min_impurity_decrease=0.0, min_impurity_split=None,\n",
       "                       min_samples_leaf=1, min_samples_split=2,\n",
       "                       min_weight_fraction_leaf=0.0, presort=False,\n",
       "                       random_state=0, splitter='best')"
      ]
     },
     "execution_count": 314,
     "metadata": {},
     "output_type": "execute_result"
    }
   ],
   "source": [
    "classifier = DecisionTreeClassifier(random_state=0)\n",
    "classifier.fit(X_train, y_train)"
   ]
  },
  {
   "cell_type": "code",
   "execution_count": 316,
   "metadata": {},
   "outputs": [
    {
     "name": "stdout",
     "output_type": "stream",
     "text": [
      "Accuracy on training set: 1.000\n",
      "Accuracy on test set: 0.026\n"
     ]
    }
   ],
   "source": [
    "print(\"Accuracy on training set: {:.3f}\".format(classifier.score(X_train, y_train)))\n",
    "print(\"Accuracy on test set: {:.3f}\".format(classifier.score(X_test, y_test)))"
   ]
  },
  {
   "cell_type": "code",
   "execution_count": null,
   "metadata": {},
   "outputs": [],
   "source": []
  },
  {
   "cell_type": "markdown",
   "metadata": {},
   "source": [
    "# Dos metodos deben ser diferentes de los que se analizaron en clase\n",
    "\n",
    "https://medium.com/@rrfd/boosting-bagging-and-stacking-ensemble-methods-with-sklearn-and-mlens-a455c0c982de\n",
    "\n",
    "\n",
    "combining predictions from several models averages out idiosyncratic errors and yield better overall predictions."
   ]
  },
  {
   "cell_type": "markdown",
   "metadata": {},
   "source": [
    "## 1. Bagging classifier or Bootstrap Aggregation\n",
    "https://scikit-learn.org/stable/modules/generated/sklearn.ensemble.BaggingClassifier.html\n",
    "\n",
    "\n",
    "Bootstrap is a sampling technique in which we select “n” observations out of a population of “n” observations. But the selection is entirely random, i.e., each observation can be chosen from the original population so that each observation is equally likely to be selected in each iteration of the bootstrapping process. After the bootstrapped samples are formed, separate models are trained with the bootstrapped samples. In real experiments, the bootstrapped samples are drawn from the training set, and the sub-models are tested using the testing set. The final output prediction is combined across the projections of all the sub-models."
   ]
  },
  {
   "cell_type": "markdown",
   "metadata": {},
   "source": [
    "#### Pre-Procesado\n",
    "\n",
    "Inicialmente limpiamos los datos provenientes del archivo .CSV ya que detecta 2 columnas adicionales con valores **'NaN'**. Adicionalmente se renombran las columnas con los nombres especificados en la fuente de obtencion de los datos."
   ]
  },
  {
   "cell_type": "code",
   "execution_count": 44,
   "metadata": {
    "scrolled": true
   },
   "outputs": [
    {
     "data": {
      "text/html": [
       "<div>\n",
       "<style scoped>\n",
       "    .dataframe tbody tr th:only-of-type {\n",
       "        vertical-align: middle;\n",
       "    }\n",
       "\n",
       "    .dataframe tbody tr th {\n",
       "        vertical-align: top;\n",
       "    }\n",
       "\n",
       "    .dataframe thead th {\n",
       "        text-align: right;\n",
       "    }\n",
       "</style>\n",
       "<table border=\"1\" class=\"dataframe\">\n",
       "  <thead>\n",
       "    <tr style=\"text-align: right;\">\n",
       "      <th></th>\n",
       "      <th>Rel_Compact</th>\n",
       "      <th>Surfc_Ar</th>\n",
       "      <th>Wall_Ar</th>\n",
       "      <th>Roof_Ar</th>\n",
       "      <th>Overall_Hei</th>\n",
       "      <th>Orientati</th>\n",
       "      <th>Glazing_Ar</th>\n",
       "      <th>Glaz_Ar_Distr</th>\n",
       "      <th>Heating_Load</th>\n",
       "      <th>Cooling_Load</th>\n",
       "    </tr>\n",
       "  </thead>\n",
       "  <tbody>\n",
       "    <tr>\n",
       "      <th>1</th>\n",
       "      <td>0.98</td>\n",
       "      <td>514.50</td>\n",
       "      <td>294.00</td>\n",
       "      <td>110.25</td>\n",
       "      <td>7.00</td>\n",
       "      <td>2</td>\n",
       "      <td>0.00</td>\n",
       "      <td>0</td>\n",
       "      <td>15.55</td>\n",
       "      <td>21.33</td>\n",
       "    </tr>\n",
       "    <tr>\n",
       "      <th>2</th>\n",
       "      <td>0.98</td>\n",
       "      <td>514.50</td>\n",
       "      <td>294.00</td>\n",
       "      <td>110.25</td>\n",
       "      <td>7.00</td>\n",
       "      <td>3</td>\n",
       "      <td>0.00</td>\n",
       "      <td>0</td>\n",
       "      <td>15.55</td>\n",
       "      <td>21.33</td>\n",
       "    </tr>\n",
       "    <tr>\n",
       "      <th>3</th>\n",
       "      <td>0.98</td>\n",
       "      <td>514.50</td>\n",
       "      <td>294.00</td>\n",
       "      <td>110.25</td>\n",
       "      <td>7.00</td>\n",
       "      <td>4</td>\n",
       "      <td>0.00</td>\n",
       "      <td>0</td>\n",
       "      <td>15.55</td>\n",
       "      <td>21.33</td>\n",
       "    </tr>\n",
       "    <tr>\n",
       "      <th>4</th>\n",
       "      <td>0.98</td>\n",
       "      <td>514.50</td>\n",
       "      <td>294.00</td>\n",
       "      <td>110.25</td>\n",
       "      <td>7.00</td>\n",
       "      <td>5</td>\n",
       "      <td>0.00</td>\n",
       "      <td>0</td>\n",
       "      <td>15.55</td>\n",
       "      <td>21.33</td>\n",
       "    </tr>\n",
       "    <tr>\n",
       "      <th>5</th>\n",
       "      <td>0.90</td>\n",
       "      <td>563.50</td>\n",
       "      <td>318.50</td>\n",
       "      <td>122.50</td>\n",
       "      <td>7.00</td>\n",
       "      <td>2</td>\n",
       "      <td>0.00</td>\n",
       "      <td>0</td>\n",
       "      <td>20.84</td>\n",
       "      <td>28.28</td>\n",
       "    </tr>\n",
       "    <tr>\n",
       "      <th>6</th>\n",
       "      <td>0.90</td>\n",
       "      <td>563.50</td>\n",
       "      <td>318.50</td>\n",
       "      <td>122.50</td>\n",
       "      <td>7.00</td>\n",
       "      <td>3</td>\n",
       "      <td>0.00</td>\n",
       "      <td>0</td>\n",
       "      <td>21.46</td>\n",
       "      <td>25.38</td>\n",
       "    </tr>\n",
       "    <tr>\n",
       "      <th>7</th>\n",
       "      <td>0.90</td>\n",
       "      <td>563.50</td>\n",
       "      <td>318.50</td>\n",
       "      <td>122.50</td>\n",
       "      <td>7.00</td>\n",
       "      <td>4</td>\n",
       "      <td>0.00</td>\n",
       "      <td>0</td>\n",
       "      <td>20.71</td>\n",
       "      <td>25.16</td>\n",
       "    </tr>\n",
       "    <tr>\n",
       "      <th>8</th>\n",
       "      <td>0.90</td>\n",
       "      <td>563.50</td>\n",
       "      <td>318.50</td>\n",
       "      <td>122.50</td>\n",
       "      <td>7.00</td>\n",
       "      <td>5</td>\n",
       "      <td>0.00</td>\n",
       "      <td>0</td>\n",
       "      <td>19.68</td>\n",
       "      <td>29.60</td>\n",
       "    </tr>\n",
       "    <tr>\n",
       "      <th>9</th>\n",
       "      <td>0.86</td>\n",
       "      <td>588.00</td>\n",
       "      <td>294.00</td>\n",
       "      <td>147.00</td>\n",
       "      <td>7.00</td>\n",
       "      <td>2</td>\n",
       "      <td>0.00</td>\n",
       "      <td>0</td>\n",
       "      <td>19.50</td>\n",
       "      <td>27.30</td>\n",
       "    </tr>\n",
       "    <tr>\n",
       "      <th>10</th>\n",
       "      <td>0.86</td>\n",
       "      <td>588.00</td>\n",
       "      <td>294.00</td>\n",
       "      <td>147.00</td>\n",
       "      <td>7.00</td>\n",
       "      <td>3</td>\n",
       "      <td>0.00</td>\n",
       "      <td>0</td>\n",
       "      <td>19.95</td>\n",
       "      <td>21.97</td>\n",
       "    </tr>\n",
       "  </tbody>\n",
       "</table>\n",
       "</div>"
      ],
      "text/plain": [
       "   Rel_Compact Surfc_Ar Wall_Ar Roof_Ar Overall_Hei Orientati Glazing_Ar  \\\n",
       "1         0.98   514.50  294.00  110.25        7.00         2       0.00   \n",
       "2         0.98   514.50  294.00  110.25        7.00         3       0.00   \n",
       "3         0.98   514.50  294.00  110.25        7.00         4       0.00   \n",
       "4         0.98   514.50  294.00  110.25        7.00         5       0.00   \n",
       "5         0.90   563.50  318.50  122.50        7.00         2       0.00   \n",
       "6         0.90   563.50  318.50  122.50        7.00         3       0.00   \n",
       "7         0.90   563.50  318.50  122.50        7.00         4       0.00   \n",
       "8         0.90   563.50  318.50  122.50        7.00         5       0.00   \n",
       "9         0.86   588.00  294.00  147.00        7.00         2       0.00   \n",
       "10        0.86   588.00  294.00  147.00        7.00         3       0.00   \n",
       "\n",
       "   Glaz_Ar_Distr Heating_Load Cooling_Load  \n",
       "1              0        15.55        21.33  \n",
       "2              0        15.55        21.33  \n",
       "3              0        15.55        21.33  \n",
       "4              0        15.55        21.33  \n",
       "5              0        20.84        28.28  \n",
       "6              0        21.46        25.38  \n",
       "7              0        20.71        25.16  \n",
       "8              0        19.68        29.60  \n",
       "9              0        19.50        27.30  \n",
       "10             0        19.95        21.97  "
      ]
     },
     "execution_count": 44,
     "metadata": {},
     "output_type": "execute_result"
    }
   ],
   "source": [
    "import pandas as pd\n",
    "import numpy as np\n",
    "from sklearn import model_selection\n",
    "from sklearn.linear_model import LogisticRegression\n",
    "from sklearn.tree import DecisionTreeClassifier\n",
    "from sklearn.svm import SVC\n",
    "from sklearn.ensemble import VotingClassifier\n",
    "\n",
    "name = ['Rel_Compact', 'Surfc_Ar', 'Wall_Ar', 'Roof_Ar', 'Overall_Hei', 'Orientati', 'Glazing_Ar', 'Glaz_Ar_Distr', 'Heating_Load', 'Cooling_Load', 'Unnamed1', 'Unnamed2']\n",
    "data_read= pd.read_csv('DatasetCSV.csv', names=name)\n",
    "\n",
    "df = pd.DataFrame(data_read, columns=['Rel_Compact', 'Surfc_Ar', 'Wall_Ar', 'Roof_Ar', 'Overall_Hei', 'Orientati', 'Glazing_Ar', 'Glaz_Ar_Distr', 'Heating_Load', 'Cooling_Load', 'Unnamed1', 'Unnamed2'])\n",
    "column_drop = df.drop(['Unnamed1','Unnamed2'], axis=1)\n",
    "\n",
    "row_drop = column_drop.drop(0)\n",
    "\n",
    "New_Data = row_drop\n",
    "\n",
    "row_drop.head(10)"
   ]
  },
  {
   "cell_type": "code",
   "execution_count": 54,
   "metadata": {},
   "outputs": [
    {
     "name": "stdout",
     "output_type": "stream",
     "text": [
      "['0.98' '514.50' '294.00' '110.25' '7.00' '2' '0.00' '0']\n"
     ]
    }
   ],
   "source": [
    "array = row_drop.values\n",
    "X = array[:,0:8]\n",
    "Y = array[:,8:10]\n",
    "seed = 7\n"
   ]
  },
  {
   "cell_type": "markdown",
   "metadata": {},
   "source": [
    "## 2. AdaBoost classifier\n",
    "https://scikit-learn.org/stable/modules/generated/sklearn.ensemble.AdaBoostClassifier.html"
   ]
  },
  {
   "cell_type": "code",
   "execution_count": null,
   "metadata": {},
   "outputs": [],
   "source": []
  }
 ],
 "metadata": {
  "kernelspec": {
   "display_name": "Python 3",
   "language": "python",
   "name": "python3"
  },
  "language_info": {
   "codemirror_mode": {
    "name": "ipython",
    "version": 3
   },
   "file_extension": ".py",
   "mimetype": "text/x-python",
   "name": "python",
   "nbconvert_exporter": "python",
   "pygments_lexer": "ipython3",
   "version": "3.7.3"
  }
 },
 "nbformat": 4,
 "nbformat_minor": 2
}
